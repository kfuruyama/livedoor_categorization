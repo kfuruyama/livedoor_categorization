{
 "cells": [
  {
   "cell_type": "markdown",
   "metadata": {},
   "source": [
    "# Livedoorコーパスをtsv形式に変換\n",
    "\n",
    "もとのデータ（ https://www.rondhuit.com/download/ldcc-20140209.tar.gz )では、記事がコーナーごとにフォルダで区切られています。\n",
    "\n",
    "ここでは、<br/>\n",
    "1.各記事にコーナーと一対一対応のラベルをつけ、<br/>\n",
    "さらに<br/>\n",
    "2.すべての記事をひとつのtsvファイルにまとめる、<br/>\n",
    "という作業をします。\n",
    "\n",
    "コーナーとラベルの対応は以下のとおりです。\n",
    "（0: 独女通信, 1: ITライフハック, 2: 家電チャンネル, 3: livedoor HOMME, 4: MOVIE ENTER, 5: Peachy, 6: エスマックス, 7: Sports Watch, 8: トピックニュース）\n",
    "\n",
    "トピックニュースhttp://news.livedoor.com/category/vender/news/\n",
    "Sports Watchhttp://news.livedoor.com/category/vender/208/\n",
    "ITライフハックhttp://news.livedoor.com/category/vender/223/\n",
    "家電チャンネルhttp://news.livedoor.com/category/vender/kadench/\n",
    "MOVIE ENTERhttp://news.livedoor.com/category/vender/movie_enter/\n",
    "独女通信http://news.livedoor.com/category/vender/90/\n",
    "エスマックスhttp://news.livedoor.com/category/vender/smax/\n",
    "livedoor HOMMEhttp://news.livedoor.com/category/vender/homme/\n",
    "Peachyhttp://news.livedoor.com/category/vender/ldgirls/\n"
   ]
  },
  {
   "cell_type": "code",
   "execution_count": 1,
   "metadata": {},
   "outputs": [],
   "source": [
    "# tsv形式のファイルにします\n",
    "import glob\n",
    "import os\n",
    "import io\n",
    "import string\n",
    "\n",
    "\n",
    "f = open('./data/livedoor_text/livedoor_text.tsv', 'w')\n",
    "\n",
    "path = './data/livedoor_text/dokujo-tsushin/'\n",
    "for fname in glob.glob(os.path.join(path, '*.txt')):\n",
    "    with io.open(fname, 'r', encoding=\"utf-8\") as ff:\n",
    "        text = ff.readline()       \n",
    "        text = text.replace('\\t', \" \") # タブがあれば消しておきます\n",
    "        text = text+'\\t'+'0'+'\\t'+'\\n' # 「独女通信」の記事にラベル0をつける\n",
    "        f.write(text)\n",
    "\n",
    "path = './data/livedoor_text/it-life-hack/'\n",
    "for fname in glob.glob(os.path.join(path, '*.txt')):\n",
    "    with io.open(fname, 'r', encoding=\"utf-8\") as ff:\n",
    "        text = ff.readline()       \n",
    "        text = text.replace('\\t', \" \") # タブがあれば消しておきます\n",
    "        text = text+'\\t'+'1'+'\\t'+'\\n' # 「ITライフハック」の記事にラベル1をつける\n",
    "        f.write(text)\n",
    "        \n",
    "path = './data/livedoor_text/kaden-channel/'\n",
    "for fname in glob.glob(os.path.join(path, '*.txt')):\n",
    "    with io.open(fname, 'r', encoding=\"utf-8\") as ff:\n",
    "        text = ff.readline()       \n",
    "        text = text.replace('\\t', \" \") # タブがあれば消しておきます\n",
    "        text = text+'\\t'+'2'+'\\t'+'\\n' # 「家電チャンネル」の記事にラベル2をつける\n",
    "        f.write(text)\n",
    "\n",
    "path = './data/livedoor_text/livedoor-homme/'\n",
    "for fname in glob.glob(os.path.join(path, '*.txt')):\n",
    "    with io.open(fname, 'r', encoding=\"utf-8\") as ff:\n",
    "        text = ff.readline()       \n",
    "        text = text.replace('\\t', \" \") # タブがあれば消しておきます\n",
    "        text = text+'\\t'+'3'+'\\t'+'\\n' # 「livedoor HOMME」の記事にラベル3をつける\n",
    "        f.write(text)\n",
    "\n",
    "path = './data/livedoor_text/movie-enter/'\n",
    "for fname in glob.glob(os.path.join(path, '*.txt')):\n",
    "    with io.open(fname, 'r', encoding=\"utf-8\") as ff:\n",
    "        text = ff.readline()       \n",
    "        text = text.replace('\\t', \" \") # タブがあれば消しておきます\n",
    "        text = text+'\\t'+'4'+'\\t'+'\\n' # 「MOVIE ENTER」の記事にラベル4をつける\n",
    "        f.write(text)\n",
    "        \n",
    "path = './data/livedoor_text/peachy/'\n",
    "for fname in glob.glob(os.path.join(path, '*.txt')):\n",
    "    with io.open(fname, 'r', encoding=\"utf-8\") as ff:\n",
    "        text = ff.readline()       \n",
    "        text = text.replace('\\t', \" \") # タブがあれば消しておきます\n",
    "        text = text+'\\t'+'5'+'\\t'+'\\n' # 「Peachy」の記事にラベル5をつける\n",
    "        f.write(text)\n",
    "\n",
    "path = './data/livedoor_text/smax/'\n",
    "for fname in glob.glob(os.path.join(path, '*.txt')):\n",
    "    with io.open(fname, 'r', encoding=\"utf-8\") as ff:\n",
    "        text = ff.readline()       \n",
    "        text = text.replace('\\t', \" \") # タブがあれば消しておきます\n",
    "        text = text+'\\t'+'6'+'\\t'+'\\n' # 「エスマックス」の記事にラベル6をつける\n",
    "        f.write(text)\n",
    "\n",
    "path = './data/livedoor_text/sports-watch/'\n",
    "for fname in glob.glob(os.path.join(path, '*.txt')):\n",
    "    with io.open(fname, 'r', encoding=\"utf-8\") as ff:\n",
    "        text = ff.readline()       \n",
    "        text = text.replace('\\t', \" \") # タブがあれば消しておきます\n",
    "        text = text+'\\t'+'7'+'\\t'+'\\n' # 「Sports Watch」の記事にラベル7をつける\n",
    "        f.write(text)\n",
    "       \n",
    "path = './data/livedoor_text/topic_news/'\n",
    "for fname in glob.glob(os.path.join(path, '*.txt')):\n",
    "    with io.open(fname, 'r', encoding=\"utf-8\") as ff:\n",
    "        text = ff.readline()       \n",
    "        text = text.replace('\\t', \" \") # タブがあれば消しておきます\n",
    "        text = text+'\\t'+'8'+'\\t'+'\\n' # 「トピックニュース」の記事にラベル8をつける\n",
    "        f.write(text)\n",
    "        \n",
    "f.close()\n"
   ]
  },
  {
   "cell_type": "code",
   "execution_count": 3,
   "metadata": {
    "scrolled": true
   },
   "outputs": [],
   "source": [
    "from sklearn.model_selection import train_test_split\n",
    "\n",
    "ds = './data/livedoor_text/livedoor_text.tsv'\n",
    "train_val_ds, test_ds = train_test_split(ds,test_size=0.2)"
   ]
  },
  {
   "cell_type": "code",
   "execution_count": 5,
   "metadata": {},
   "outputs": [],
   "source": [
    "file_01 = open('./data/livedoor_text/livedoor_text_train_val.tsv', 'w')\n",
    "file_01.writelines(train_val_ds)\n",
    "file_01.close()"
   ]
  },
  {
   "cell_type": "code",
   "execution_count": 6,
   "metadata": {},
   "outputs": [],
   "source": [
    "file_02 = open('./data/livedoor_text/livedoor_text_test.tsv', 'w')\n",
    "file_02.writelines(test_ds)\n",
    "file_02.close()"
   ]
  }
 ],
 "metadata": {
  "kernelspec": {
   "display_name": "Python 3",
   "language": "python",
   "name": "python3"
  },
  "language_info": {
   "codemirror_mode": {
    "name": "ipython",
    "version": 3
   },
   "file_extension": ".py",
   "mimetype": "text/x-python",
   "name": "python",
   "nbconvert_exporter": "python",
   "pygments_lexer": "ipython3",
   "version": "3.6.4"
  }
 },
 "nbformat": 4,
 "nbformat_minor": 2
}
